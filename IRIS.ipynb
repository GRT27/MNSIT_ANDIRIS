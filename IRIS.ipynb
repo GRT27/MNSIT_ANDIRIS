{
 "cells": [
  {
   "cell_type": "code",
   "execution_count": 3,
   "metadata": {},
   "outputs": [
    {
     "name": "stdout",
     "output_type": "stream",
     "text": [
      "Loading the data.........\n",
      "   sepal length (cm)  sepal width (cm)  petal length (cm)  petal width (cm)\n",
      "0                5.1               3.5                1.4               0.2\n",
      "1                4.9               3.0                1.4               0.2\n",
      "2                4.7               3.2                1.3               0.2\n",
      "3                4.6               3.1                1.5               0.2\n",
      "4                5.0               3.6                1.4               0.2\n",
      "   sepal length (cm)  sepal width (cm)  petal length (cm)  petal width (cm)  \\\n",
      "0                5.1               3.5                1.4               0.2   \n",
      "1                4.9               3.0                1.4               0.2   \n",
      "2                4.7               3.2                1.3               0.2   \n",
      "3                4.6               3.1                1.5               0.2   \n",
      "4                5.0               3.6                1.4               0.2   \n",
      "\n",
      "   cluster  target                             c  \n",
      "0        1       0  Look at me , I am Importance  \n",
      "1        1       0  Look at me , I am Importance  \n",
      "2        1       0  Look at me , I am Importance  \n",
      "3        1       0  Look at me , I am Importance  \n",
      "4        1       0  Look at me , I am Importance  \n",
      "Loading the Result.......\n",
      "........................\n",
      "                 c\n",
      "cluster target    \n",
      "0       1       48\n",
      "        2       14\n",
      "1       0       50\n",
      "2       1        2\n",
      "        2       36\n"
     ]
    }
   ],
   "source": [
    "import sklearn\n",
    "from sklearn import datasets\n",
    "from sklearn import cluster\n",
    "import pandas as pd\n",
    "\n",
    "data = datasets.load_iris()\n",
    "x = pd.DataFrame(data.data , columns = list(data.feature_names))\n",
    "print(\"Loading the data.........\")\n",
    "print(x[:5])\n",
    "\n",
    "model = cluster.KMeans(n_clusters = 3 , random_state = 25)\n",
    "results = model.fit(x)\n",
    "x[\"cluster\"] = results.predict(x)\n",
    "x[\"target\"] = data.target\n",
    "x[\"c\"] = \"Look at me , I am Importance\"\n",
    "print(x[:5])\n",
    "\n",
    "classification_result = x[[\"cluster\" , \"target\" , \"c\"]].groupby([\"cluster\",\"target\"]).agg(\"count\")\n",
    "print(\"Loading the Result.......\")\n",
    "print(\"........................\")\n",
    "print(classification_result)\n"
   ]
  },
  {
   "cell_type": "code",
   "execution_count": null,
   "metadata": {},
   "outputs": [],
   "source": []
  },
  {
   "cell_type": "code",
   "execution_count": null,
   "metadata": {},
   "outputs": [],
   "source": []
  }
 ],
 "metadata": {
  "kernelspec": {
   "display_name": "Python 3",
   "language": "python",
   "name": "python3"
  },
  "language_info": {
   "codemirror_mode": {
    "name": "ipython",
    "version": 3
   },
   "file_extension": ".py",
   "mimetype": "text/x-python",
   "name": "python",
   "nbconvert_exporter": "python",
   "pygments_lexer": "ipython3",
   "version": "3.8.5"
  }
 },
 "nbformat": 4,
 "nbformat_minor": 4
}
